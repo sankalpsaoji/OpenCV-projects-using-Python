{
 "cells": [
  {
   "cell_type": "code",
   "execution_count": 3,
   "metadata": {},
   "outputs": [],
   "source": [
    "# import library\n",
    "\n",
    "import cv2\n",
    "import numpy as np\n",
    "import matplotlib.pyplot as plt\n",
    "\n",
    "%matplotlib qt"
   ]
  },
  {
   "cell_type": "code",
   "execution_count": 16,
   "metadata": {},
   "outputs": [],
   "source": [
    "# read image\n",
    "image = cv2.imread(\"image.jpg\", 1)\n",
    "\n",
    "# smaller size image \n",
    "small = cv2.resize(image, (0,0), fx = 0.2, fy = 0.2)\n",
    "\n",
    "# bigger size image\n",
    "large = cv2.resize(image, (3000, 2000))\n",
    "\n",
    "#streching the image\n",
    "strech = cv2.resize(image, (780,540), interpolation = cv2.INTER_NEAREST)\n",
    "\n",
    "titles = [\"Original\", \"Small\", \"Large\", \"Streched_inside\"]\n",
    "images = [image, small, large, strech]\n",
    "\n",
    "count = 4\n",
    "\n",
    "for i in range(count):\n",
    "    plt.subplot(2, 2, i+1)\n",
    "    plt.title(titles[i], fontsize=16, color='r')\n",
    "    plt.imshow(images[i])\n",
    "    \n",
    "plt.show()\n",
    "plt.savefig('resized.png')"
   ]
  },
  {
   "cell_type": "code",
   "execution_count": null,
   "metadata": {},
   "outputs": [],
   "source": [
    "[]"
   ]
  }
 ],
 "metadata": {
  "kernelspec": {
   "display_name": "Python 3",
   "language": "python",
   "name": "python3"
  },
  "language_info": {
   "codemirror_mode": {
    "name": "ipython",
    "version": 3
   },
   "file_extension": ".py",
   "mimetype": "text/x-python",
   "name": "python",
   "nbconvert_exporter": "python",
   "pygments_lexer": "ipython3",
   "version": "3.6.8"
  }
 },
 "nbformat": 4,
 "nbformat_minor": 2
}
