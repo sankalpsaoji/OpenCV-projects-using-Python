{
 "cells": [
  {
   "cell_type": "code",
   "execution_count": 5,
   "metadata": {},
   "outputs": [
    {
     "name": "stdout",
     "output_type": "stream",
     "text": [
      "4.2.0\n"
     ]
    }
   ],
   "source": [
    "# Car detection using openCV and cascade\n",
    "\n",
    "#import library\n",
    "import cv2\n",
    "print(cv2.__version__)\n",
    "\n",
    "#load the cascade\n",
    "cascade_source = 'cars.xml'\n",
    "video_source = 'cars_video.avi'\n",
    "#video_source = 'video1.avi'\n",
    "\n",
    "#cap = cv2.VideoCapture(0)\n",
    "fourcc = cv2.VideoWriter_fourcc(*'MPV4') \n",
    "out = cv2.VideoWriter('cars.mp4', fourcc, 20.0, (640,480))\n",
    "\n",
    "#read the cascade\n",
    "capture = cv2.VideoCapture(video_source)\n",
    "car_cascade = cv2.CascadeClassifier(cascade_source)\n",
    "\n",
    "while True:\n",
    "    ret, img = capture.read()\n",
    "    if (type(img) == type(None)):\n",
    "        break\n",
    "    \n",
    "    gray = cv2.cvtColor(img, cv2.COLOR_BGR2GRAY)  #convert to grayscale\n",
    "    \n",
    "    cars = car_cascade.detectMultiScale(gray, 1.1, 1)   #detect cars\n",
    "\n",
    "#draw rectangle around the cars\n",
    "\n",
    "    for (x,y,w,h) in cars:\n",
    "        cv2.rectangle(img,(x,y),(x+w,y+h),(0,0,255),2)  \n",
    "    \n",
    "    cv2.imshow('video', img)   #display output\n",
    "    \n",
    "    if cv2.waitKey(33) == 27:\n",
    "        break\n",
    "        \n",
    "\n",
    "cv2.destroyAllWindows()"
   ]
  }
 ],
 "metadata": {
  "kernelspec": {
   "display_name": "Python 3",
   "language": "python",
   "name": "python3"
  },
  "language_info": {
   "codemirror_mode": {
    "name": "ipython",
    "version": 3
   },
   "file_extension": ".py",
   "mimetype": "text/x-python",
   "name": "python",
   "nbconvert_exporter": "python",
   "pygments_lexer": "ipython3",
   "version": "3.6.8"
  }
 },
 "nbformat": 4,
 "nbformat_minor": 2
}
