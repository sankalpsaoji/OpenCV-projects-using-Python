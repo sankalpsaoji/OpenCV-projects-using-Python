{
 "cells": [
  {
   "cell_type": "code",
   "execution_count": 2,
   "metadata": {},
   "outputs": [],
   "source": [
    "# Face detection using openCV and HAAR Cascade\n",
    "#import libary\n",
    "import cv2\n",
    "print(cv2.__version__)\n",
    "\n",
    "#load the cascade\n",
    "face_cascade = cv2.CascadeClassifier(\"haarcascade_frontalface_default.xml\")\n",
    "\n",
    "#read the cascade\n",
    "img = cv2.imread(\"picture.jpg\")\n",
    "#img = 'picture.jpg'\n",
    "\n",
    "#convert to grayscale\n",
    "gray = cv2.cvtColor(img, cv2.COLOR_BGR2GRAY)\n",
    "\n",
    "\n",
    "#detect faces\n",
    "faces = face_cascade.detectMultiScale(gray, 1.1, 4) \n",
    "\n",
    "#draw rectangle around face\n",
    "for (x,y,w,h) in faces:\n",
    "    cv2.rectangle(img, (x,y), (x+w, y+h), (0, 0, 255), 2)\n",
    "\n",
    "#display output\n",
    "show = cv2.imshow(\"img\", img)\n",
    "\n",
    "write = cv2.imwrite(\"image.jpg\", img)\n",
    "cv2.waitKey()\n",
    "\n",
    "cv2.destroyAllWindows()"
   ]
  }
 ],
 "metadata": {
  "kernelspec": {
   "display_name": "Python 3",
   "language": "python",
   "name": "python3"
  },
  "language_info": {
   "codemirror_mode": {
    "name": "ipython",
    "version": 3
   },
   "file_extension": ".py",
   "mimetype": "text/x-python",
   "name": "python",
   "nbconvert_exporter": "python",
   "pygments_lexer": "ipython3",
   "version": "3.6.8"
  }
 },
 "nbformat": 4,
 "nbformat_minor": 2
}
